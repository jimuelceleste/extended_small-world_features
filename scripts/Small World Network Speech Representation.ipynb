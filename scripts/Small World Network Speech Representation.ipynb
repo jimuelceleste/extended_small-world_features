{
 "cells": [
  {
   "cell_type": "markdown",
   "id": "283a4487-ecc5-40cb-98ad-980b74f27cd7",
   "metadata": {},
   "source": [
    "# Small World Network Speech Representation\n",
    "\n",
    "By: Jimuel Celeste, Jr. \n",
    "\n",
    "The objective is to implement a small world representation of speech data as described in [1]. \n",
    "\n",
    "References:\n",
    "1. Nasrolahzadeh, M., Mohammadpoory, Z. & Haddadnia, J. Small-world networks propensity in spontaneous speech signals of Alzheimer’s disease: visibility graph analysis. Sci Rep 15, 4860 (2025). https://doi.org/10.1038/s41598-025-88947-9"
   ]
  },
  {
   "cell_type": "code",
   "execution_count": 4,
   "id": "56a22a57-ded1-44d4-bd41-21e10bc29ad4",
   "metadata": {},
   "outputs": [],
   "source": [
    "import pandas as pd \n",
    "from ts2vg import NaturalVG\n",
    "from ts2vg import HorizontalVG"
   ]
  },
  {
   "cell_type": "code",
   "execution_count": 6,
   "id": "b8af1e6a-d00c-4d8a-8905-e74af147d983",
   "metadata": {},
   "outputs": [
    {
     "data": {
      "text/plain": [
       "[(0, 1),\n",
       " (0, 2),\n",
       " (0, 3),\n",
       " (0, 4),\n",
       " (3, 4),\n",
       " (1, 4),\n",
       " (4, 5),\n",
       " (4, 6),\n",
       " (4, 7),\n",
       " (2, 3),\n",
       " (1, 3),\n",
       " (6, 7),\n",
       " (5, 7),\n",
       " (1, 2),\n",
       " (5, 6)]"
      ]
     },
     "execution_count": 6,
     "metadata": {},
     "output_type": "execute_result"
    }
   ],
   "source": [
    "ts = [1.0, 0.5, 0.3, 0.7, 1.0, 0.5, 0.3, 0.8]\n",
    "\n",
    "vg = NaturalVG()\n",
    "vg.build(ts)\n",
    "\n",
    "edges = vg.edges\n",
    "edges"
   ]
  },
  {
   "cell_type": "code",
   "execution_count": 7,
   "id": "5e4a91ba-b454-4c6c-b2b8-328bb74c203e",
   "metadata": {},
   "outputs": [
    {
     "data": {
      "text/plain": [
       "[(0, 1),\n",
       " (0, 3),\n",
       " (0, 4),\n",
       " (3, 4),\n",
       " (4, 5),\n",
       " (4, 7),\n",
       " (2, 3),\n",
       " (1, 3),\n",
       " (6, 7),\n",
       " (5, 7),\n",
       " (1, 2),\n",
       " (5, 6)]"
      ]
     },
     "execution_count": 7,
     "metadata": {},
     "output_type": "execute_result"
    }
   ],
   "source": [
    "ts = [1.0, 0.5, 0.3, 0.7, 1.0, 0.5, 0.3, 0.8]\n",
    "\n",
    "vg = HorizontalVG()\n",
    "vg.build(ts)\n",
    "\n",
    "edges = vg.edges\n",
    "edges"
   ]
  }
 ],
 "metadata": {
  "kernelspec": {
   "display_name": "Python 3 (ipykernel)",
   "language": "python",
   "name": "python3"
  },
  "language_info": {
   "codemirror_mode": {
    "name": "ipython",
    "version": 3
   },
   "file_extension": ".py",
   "mimetype": "text/x-python",
   "name": "python",
   "nbconvert_exporter": "python",
   "pygments_lexer": "ipython3",
   "version": "3.13.5"
  }
 },
 "nbformat": 4,
 "nbformat_minor": 5
}
